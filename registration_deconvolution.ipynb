{
 "cells": [
  {
   "cell_type": "markdown",
   "metadata": {},
   "source": [
    "# Tau to Nissl registration using color deconvolution\n"
   ]
  },
  {
   "cell_type": "code",
   "execution_count": null,
   "metadata": {},
   "outputs": [],
   "source": [
    "import subprocess\n",
    "import sys\n",
    "\n",
    "from deconvolution import Deconvolution\n",
    "import matplotlib.pyplot as plt\n",
    "import numpy as np\n",
    "import pandas as pd\n",
    "from PIL import Image\n",
    "import SimpleITK as sitk\n",
    "import skimage\n",
    "from sklearn.ensemble import RandomForestClassifier\n",
    "\n",
    "\n",
    "# https://github.com/pyushkevich/histoannot.git\n",
    "# git clone the GitHub repository and add the path to the sys.path\n",
    "# This makes sure you are using the latest version of the code\n",
    "sys.path.append(\"/Users/cathalye/Packages/histoannot/\")\n",
    "import phas.client.api as phas\n",
    "from picsl_c3d import Convert3D\n",
    "from picsl_c3d import Convert2D\n",
    "from picsl_greedy import Greedy3D\n",
    "from picsl_greedy import Greedy2D"
   ]
  },
  {
   "cell_type": "markdown",
   "metadata": {},
   "source": [
    "## Connect to server\n",
    "User input needed - `PHAS_URL`, `PRIVATE_KEY`"
   ]
  },
  {
   "cell_type": "code",
   "execution_count": null,
   "metadata": {},
   "outputs": [],
   "source": [
    "# To get the API key you need to go to https://histo.itksnap.org/auth/api/generate_key\n",
    "PHAS_URL='https://histo.itksnap.org'\n",
    "PRIVATE_KEY = '/Users/cathalye/.private/histoitk_api_key.json'\n",
    "\n",
    "conn = phas.Client(PHAS_URL, PRIVATE_KEY)\n",
    "proj_listing = pd.DataFrame(conn.project_listing())\n",
    "proj_listing"
   ]
  },
  {
   "cell_type": "code",
   "execution_count": null,
   "metadata": {},
   "outputs": [],
   "source": [
    "task_listing = pd.DataFrame(conn.task_listing('mtl'))\n",
    "task_listing"
   ]
  },
  {
   "cell_type": "markdown",
   "metadata": {},
   "source": [
    "### Choose task ID\n",
    "User input needed - `TASK_ID` (choose the id number from `task_listing` dataframe above)"
   ]
  },
  {
   "cell_type": "code",
   "execution_count": null,
   "metadata": {},
   "outputs": [],
   "source": [
    "TASK_ID = 39\n",
    "\n",
    "# Create a task object to pass to Slide class for downloading thumbnails\n",
    "task = phas.Task(conn, TASK_ID)\n",
    "\n",
    "# Create a SamplingROITask object for downloading the ROIs as segmentations\n",
    "samplingROI_task = phas.SamplingROITask(conn, TASK_ID)"
   ]
  },
  {
   "cell_type": "markdown",
   "metadata": {},
   "source": [
    "## Download source and target slides\n",
    "User input needed - `SRC_ID`, `TRG_ID` (choose the slide number from the server UI)"
   ]
  },
  {
   "cell_type": "code",
   "execution_count": null,
   "metadata": {},
   "outputs": [],
   "source": [
    "REF_ID = 41867 # Tau fixed image\n",
    "MOV_ID = 43788 # Nissl image with annotations\n",
    "\n",
    "reference_slide = phas.Slide(task, REF_ID)\n",
    "reference_slide.thumbnail_nifti_image('reference_thumbnail.nii.gz')\n",
    "\n",
    "moving_slide = phas.Slide(task, MOV_ID)\n",
    "moving_slide.thumbnail_nifti_image('moving_thumbnail.nii.gz')\n",
    "samplingROI_task.slide_sampling_roi_nifti_image(MOV_ID, 'moving_sampling_roi.nii.gz')"
   ]
  },
  {
   "cell_type": "markdown",
   "metadata": {},
   "source": [
    "# Registration"
   ]
  },
  {
   "cell_type": "code",
   "execution_count": null,
   "metadata": {},
   "outputs": [],
   "source": [
    "# Step 1 - Color deconvolution to get similar looking images\n",
    "\n",
    "reference_thumbnail = sitk.ReadImage('reference_thumbnail.nii.gz')\n",
    "moving_thumbnail = sitk.ReadImage('moving_thumbnail.nii.gz')\n",
    "\n",
    "reference_im = Image.fromarray(sitk.GetArrayFromImage(reference_thumbnail)[0,:,:,:])\n",
    "decimg = Deconvolution(image=reference_im, sample_density=6)\n",
    "decimg.complete_basis()\n",
    "decimg.resolve_dependencies()\n",
    "reference_layer1, reference_layer2 = decimg.out_images(mode=[1, 2])\n"
   ]
  },
  {
   "cell_type": "code",
   "execution_count": null,
   "metadata": {},
   "outputs": [],
   "source": [
    "sitk.WriteImage(sitk.GetImageFromArray(reference_layer2), \"referece_layer2.nii.gz\")\n",
    "\n",
    "moving_im = Image.fromarray(sitk.GetArrayFromImage(moving_thumbnail)[0,:,:,:])\n",
    "decimg = Deconvolution(image=moving_im, sample_density=6)\n",
    "decimg.complete_basis()\n",
    "decimg.resolve_dependencies()\n",
    "moving_layer1, moving_layer2 = decimg.out_images(mode=[1, 2])\n"
   ]
  },
  {
   "cell_type": "code",
   "execution_count": null,
   "metadata": {},
   "outputs": [],
   "source": [
    "print(np.array(moving_layer2).shape)\n",
    "plt.imshow(np.array(moving_layer2)[:,:,0])"
   ]
  },
  {
   "cell_type": "code",
   "execution_count": null,
   "metadata": {},
   "outputs": [],
   "source": [
    "# Step 2 - Get binanry mask of the reference image\n",
    "\n",
    "# reference_layer2 = skimage.io.imread('reference_layer2.png')\n",
    "reference_layer2_gray = skimage.color.rgb2gray(reference_layer2)*255\n",
    "\n",
    "X, Y = reference_layer2_gray.shape\n",
    "reference_layer2_gray[0:25, :] = 255\n",
    "reference_layer2_gray[X-25:X, :] = 255\n",
    "reference_layer2_gray[:, 0:25] = 255\n",
    "reference_layer2_gray[:, Y-25:Y] = 255\n",
    "\n",
    "thresh = skimage.filters.threshold_otsu(reference_layer2_gray)\n",
    "reference_binary_mask = reference_layer2_gray < thresh\n",
    "\n",
    "skimage.io.imsave('reference_binary_mask.png', reference_binary_mask)\n"
   ]
  },
  {
   "cell_type": "code",
   "execution_count": null,
   "metadata": {},
   "outputs": [],
   "source": [
    "# Step 3 - Divide the mask into chunks using image graph cut\n",
    "# For simplicity, we will define a fixed number of chunks\n",
    "\n",
    "N_CHUNKS = 10\n",
    "\n",
    "subprocess.run('image_graph_cut -u 1.2 -n 100 -c 4 0.1 reference_binary_mask.png reference_multi_chunk.nii.gz {}'.format(N_CHUNKS), shell=True)\n"
   ]
  },
  {
   "cell_type": "code",
   "execution_count": null,
   "metadata": {},
   "outputs": [],
   "source": [
    "# Step 4 - Perform global rigid registration\n",
    "\n",
    "greedy = Greedy2D()\n",
    "\n",
    "# greedy.execute('-i reference_layer2.png moving_layer2.png '\n",
    "#                '-a -dof 6 '\n",
    "#                '-gm reference_binary_mask.png '\n",
    "#                '-ia-image-centers '\n",
    "#                '-m WNCC 4x4 -bg NaN -wncc-mask-dilate '\n",
    "#                '-n 200x200x40x0x0 -search 20000 any 10 '\n",
    "#                '-o output_global_rigid.mat',\n",
    "#                )\n",
    "\n",
    "subprocess.run('greedy -d 2 -a -dof 6 -i referece_layer2.nii.gz moving_layer2.nii.gz -gm reference_binary_mask.nii.gz -ia-image-centers -m WNCC 4x4 -wncc-mask-dilate -n 200x200x40x0x0 -search 20000 any 10 -o output_global_rigid.mat', shell=True)"
   ]
  },
  {
   "cell_type": "code",
   "execution_count": null,
   "metadata": {},
   "outputs": [],
   "source": [
    "# Step 5 - Piecewise rigid registration\n",
    "\n",
    "output_piecewise_rigid = \"output_piecewise_rigid_%02d.mat\"\n",
    "subprocess.run('multi_chunk_greedy -d 2 -a -dof 6 -i reference_layer2.nii.gz moving_layer2.nii.gz -cm reference_multi_chunk.nii.gz -ia output_global_rigid.mat -m WNCC 4x4 -wncc-mask-dilate -n 600x600x200x0 -search 10000 10 5 -wreg 0.05 -o {}'.format(output_piecewise_rigid), shell=True)\n"
   ]
  },
  {
   "cell_type": "code",
   "execution_count": null,
   "metadata": {},
   "outputs": [],
   "source": [
    "# Step 6 - Piecewise deformable registration\n",
    "\n",
    "output_piecewise_deformable = \"output_piecewise_deformable_%02d.nii.gz\"\n",
    "subprocess.run('multi_chunk_greedy -d 2 -i reference_layer2.nii.gz moving_layer2.nii.gz -cm reference_multi_chunk.nii.gz -it {} -m WNCC 4x4 -wncc-mask-dilate -n 400x200x100x20 -sv -s 0.6mm 0.1mm -e 0.25 -o {}'.format(output_piecewise_rigid, output_piecewise_deformable), shell=True)"
   ]
  },
  {
   "cell_type": "code",
   "execution_count": null,
   "metadata": {},
   "outputs": [],
   "source": [
    "# Step 7 - Apply the piecewise rigid and deformable registration to the moving image\n",
    "\n",
    "subprocess.run('multi_chunk_greedy -d 2 -rf reference_thumbnail.nii.gz -cm reference_multi_chunk.nii.gz -r {} {} -rb 255 -rm moving_thumbnail.nii.gz moving_deform.nii.gz'.format(output_piecewise_deformable, output_piecewise_rigid), shell=True)"
   ]
  }
 ],
 "metadata": {
  "kernelspec": {
   "display_name": "quarantine",
   "language": "python",
   "name": "python3"
  },
  "language_info": {
   "codemirror_mode": {
    "name": "ipython",
    "version": 3
   },
   "file_extension": ".py",
   "mimetype": "text/x-python",
   "name": "python",
   "nbconvert_exporter": "python",
   "pygments_lexer": "ipython3",
   "version": "3.10.15"
  }
 },
 "nbformat": 4,
 "nbformat_minor": 4
}
